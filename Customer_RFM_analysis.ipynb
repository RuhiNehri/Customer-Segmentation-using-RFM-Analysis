{
 "cells": [
  {
   "cell_type": "code",
   "execution_count": 1,
   "id": "961eeffb-4475-4e88-b7b7-c3ee965afe33",
   "metadata": {},
   "outputs": [],
   "source": [
    "import numpy as np\n",
    "import pandas as pd\n",
    "import matplotlib.pyplot as plt\n",
    "import seaborn as sns\n",
    "import datetime\n",
    "import warnings\n",
    "warnings.filterwarnings('ignore')"
   ]
  },
  {
   "cell_type": "code",
   "execution_count": 2,
   "id": "aa467e87-2eaa-4cfe-a4d4-df5204a9f0f6",
   "metadata": {},
   "outputs": [
    {
     "data": {
      "text/html": [
       "<div>\n",
       "<style scoped>\n",
       "    .dataframe tbody tr th:only-of-type {\n",
       "        vertical-align: middle;\n",
       "    }\n",
       "\n",
       "    .dataframe tbody tr th {\n",
       "        vertical-align: top;\n",
       "    }\n",
       "\n",
       "    .dataframe thead th {\n",
       "        text-align: right;\n",
       "    }\n",
       "</style>\n",
       "<table border=\"1\" class=\"dataframe\">\n",
       "  <thead>\n",
       "    <tr style=\"text-align: right;\">\n",
       "      <th></th>\n",
       "      <th>CustomerID</th>\n",
       "      <th>TOTAL_ORDERS</th>\n",
       "      <th>REVENUE</th>\n",
       "      <th>AVERAGE_ORDER_VALUE</th>\n",
       "      <th>CARRIAGE_REVENUE</th>\n",
       "      <th>AVERAGESHIPPING</th>\n",
       "      <th>FIRST_ORDER_DATE</th>\n",
       "      <th>LATEST_ORDER_DATE</th>\n",
       "      <th>AVGDAYSBETWEENORDERS</th>\n",
       "      <th>DAYSSINCELASTORDER</th>\n",
       "      <th>...</th>\n",
       "      <th>WEEK3_DAY16_DAY23_REVENUE</th>\n",
       "      <th>WEEK4_DAY24_DAY31_REVENUE</th>\n",
       "      <th>TIME_0000_0600_ORDERS</th>\n",
       "      <th>TIME_0601_1200_ORDERS</th>\n",
       "      <th>TIME_1200_1800_ORDERS</th>\n",
       "      <th>TIME_1801_2359_ORDERS</th>\n",
       "      <th>TIME_0000_0600_REVENUE</th>\n",
       "      <th>TIME_0601_1200_REVENUE</th>\n",
       "      <th>TIME_1200_1800_REVENUE</th>\n",
       "      <th>TIME_1801_2359_REVENUE</th>\n",
       "    </tr>\n",
       "  </thead>\n",
       "  <tbody>\n",
       "    <tr>\n",
       "      <th>0</th>\n",
       "      <td>22</td>\n",
       "      <td>124</td>\n",
       "      <td>11986.54</td>\n",
       "      <td>96.67</td>\n",
       "      <td>529.59</td>\n",
       "      <td>4.27</td>\n",
       "      <td>2016-12-30</td>\n",
       "      <td>2021-10-24</td>\n",
       "      <td>14.19</td>\n",
       "      <td>1</td>\n",
       "      <td>...</td>\n",
       "      <td>2592.18</td>\n",
       "      <td>2409.71</td>\n",
       "      <td>12</td>\n",
       "      <td>61</td>\n",
       "      <td>37</td>\n",
       "      <td>14</td>\n",
       "      <td>1067.92</td>\n",
       "      <td>5674.65</td>\n",
       "      <td>3916.53</td>\n",
       "      <td>1327.44</td>\n",
       "    </tr>\n",
       "    <tr>\n",
       "      <th>1</th>\n",
       "      <td>29</td>\n",
       "      <td>82</td>\n",
       "      <td>11025.96</td>\n",
       "      <td>134.46</td>\n",
       "      <td>97.92</td>\n",
       "      <td>1.19</td>\n",
       "      <td>2018-03-31</td>\n",
       "      <td>2021-10-24</td>\n",
       "      <td>15.89</td>\n",
       "      <td>1</td>\n",
       "      <td>...</td>\n",
       "      <td>2807.66</td>\n",
       "      <td>4106.19</td>\n",
       "      <td>1</td>\n",
       "      <td>13</td>\n",
       "      <td>24</td>\n",
       "      <td>44</td>\n",
       "      <td>30.25</td>\n",
       "      <td>3143.69</td>\n",
       "      <td>2205.47</td>\n",
       "      <td>5646.55</td>\n",
       "    </tr>\n",
       "    <tr>\n",
       "      <th>2</th>\n",
       "      <td>83</td>\n",
       "      <td>43</td>\n",
       "      <td>7259.69</td>\n",
       "      <td>168.83</td>\n",
       "      <td>171.69</td>\n",
       "      <td>3.99</td>\n",
       "      <td>2017-11-30</td>\n",
       "      <td>2021-10-24</td>\n",
       "      <td>33.12</td>\n",
       "      <td>1</td>\n",
       "      <td>...</td>\n",
       "      <td>713.94</td>\n",
       "      <td>2861.90</td>\n",
       "      <td>0</td>\n",
       "      <td>6</td>\n",
       "      <td>12</td>\n",
       "      <td>25</td>\n",
       "      <td>0.00</td>\n",
       "      <td>707.98</td>\n",
       "      <td>2560.91</td>\n",
       "      <td>3990.80</td>\n",
       "    </tr>\n",
       "    <tr>\n",
       "      <th>3</th>\n",
       "      <td>95</td>\n",
       "      <td>44</td>\n",
       "      <td>6992.27</td>\n",
       "      <td>158.92</td>\n",
       "      <td>92.82</td>\n",
       "      <td>2.11</td>\n",
       "      <td>2019-04-09</td>\n",
       "      <td>2021-10-24</td>\n",
       "      <td>21.11</td>\n",
       "      <td>1</td>\n",
       "      <td>...</td>\n",
       "      <td>997.02</td>\n",
       "      <td>1260.08</td>\n",
       "      <td>0</td>\n",
       "      <td>10</td>\n",
       "      <td>13</td>\n",
       "      <td>21</td>\n",
       "      <td>0.00</td>\n",
       "      <td>1908.99</td>\n",
       "      <td>2025.05</td>\n",
       "      <td>3058.23</td>\n",
       "    </tr>\n",
       "    <tr>\n",
       "      <th>4</th>\n",
       "      <td>124</td>\n",
       "      <td>55</td>\n",
       "      <td>6263.44</td>\n",
       "      <td>113.88</td>\n",
       "      <td>179.04</td>\n",
       "      <td>3.26</td>\n",
       "      <td>2020-10-23</td>\n",
       "      <td>2021-10-24</td>\n",
       "      <td>6.65</td>\n",
       "      <td>1</td>\n",
       "      <td>...</td>\n",
       "      <td>2725.66</td>\n",
       "      <td>768.46</td>\n",
       "      <td>6</td>\n",
       "      <td>9</td>\n",
       "      <td>27</td>\n",
       "      <td>13</td>\n",
       "      <td>501.34</td>\n",
       "      <td>1197.83</td>\n",
       "      <td>3004.77</td>\n",
       "      <td>1559.50</td>\n",
       "    </tr>\n",
       "  </tbody>\n",
       "</table>\n",
       "<p>5 rows × 40 columns</p>\n",
       "</div>"
      ],
      "text/plain": [
       "   CustomerID  TOTAL_ORDERS   REVENUE  AVERAGE_ORDER_VALUE  CARRIAGE_REVENUE  \\\n",
       "0          22           124  11986.54                96.67            529.59   \n",
       "1          29            82  11025.96               134.46             97.92   \n",
       "2          83            43   7259.69               168.83            171.69   \n",
       "3          95            44   6992.27               158.92             92.82   \n",
       "4         124            55   6263.44               113.88            179.04   \n",
       "\n",
       "   AVERAGESHIPPING FIRST_ORDER_DATE LATEST_ORDER_DATE  AVGDAYSBETWEENORDERS  \\\n",
       "0             4.27       2016-12-30        2021-10-24                 14.19   \n",
       "1             1.19       2018-03-31        2021-10-24                 15.89   \n",
       "2             3.99       2017-11-30        2021-10-24                 33.12   \n",
       "3             2.11       2019-04-09        2021-10-24                 21.11   \n",
       "4             3.26       2020-10-23        2021-10-24                  6.65   \n",
       "\n",
       "   DAYSSINCELASTORDER  ...  WEEK3_DAY16_DAY23_REVENUE  \\\n",
       "0                   1  ...                    2592.18   \n",
       "1                   1  ...                    2807.66   \n",
       "2                   1  ...                     713.94   \n",
       "3                   1  ...                     997.02   \n",
       "4                   1  ...                    2725.66   \n",
       "\n",
       "   WEEK4_DAY24_DAY31_REVENUE  TIME_0000_0600_ORDERS  TIME_0601_1200_ORDERS  \\\n",
       "0                    2409.71                     12                     61   \n",
       "1                    4106.19                      1                     13   \n",
       "2                    2861.90                      0                      6   \n",
       "3                    1260.08                      0                     10   \n",
       "4                     768.46                      6                      9   \n",
       "\n",
       "   TIME_1200_1800_ORDERS  TIME_1801_2359_ORDERS  TIME_0000_0600_REVENUE  \\\n",
       "0                     37                     14                 1067.92   \n",
       "1                     24                     44                   30.25   \n",
       "2                     12                     25                    0.00   \n",
       "3                     13                     21                    0.00   \n",
       "4                     27                     13                  501.34   \n",
       "\n",
       "   TIME_0601_1200_REVENUE  TIME_1200_1800_REVENUE  TIME_1801_2359_REVENUE  \n",
       "0                 5674.65                 3916.53                 1327.44  \n",
       "1                 3143.69                 2205.47                 5646.55  \n",
       "2                  707.98                 2560.91                 3990.80  \n",
       "3                 1908.99                 2025.05                 3058.23  \n",
       "4                 1197.83                 3004.77                 1559.50  \n",
       "\n",
       "[5 rows x 40 columns]"
      ]
     },
     "execution_count": 2,
     "metadata": {},
     "output_type": "execute_result"
    }
   ],
   "source": [
    "df = pd.read_excel(\"sales_data.xlsx\")\n",
    "df.head()"
   ]
  },
  {
   "cell_type": "code",
   "execution_count": 3,
   "id": "ede23fcd-dc8e-4e22-a71b-d46397aeaeaf",
   "metadata": {},
   "outputs": [
    {
     "data": {
      "text/plain": [
       "(5000, 40)"
      ]
     },
     "execution_count": 3,
     "metadata": {},
     "output_type": "execute_result"
    }
   ],
   "source": [
    "df.shape"
   ]
  },
  {
   "cell_type": "code",
   "execution_count": 4,
   "id": "b3f569b5-5611-404b-91c4-2f6e24a4a611",
   "metadata": {},
   "outputs": [
    {
     "name": "stdout",
     "output_type": "stream",
     "text": [
      "<class 'pandas.core.frame.DataFrame'>\n",
      "RangeIndex: 5000 entries, 0 to 4999\n",
      "Data columns (total 40 columns):\n",
      " #   Column                     Non-Null Count  Dtype         \n",
      "---  ------                     --------------  -----         \n",
      " 0   CustomerID                 5000 non-null   int64         \n",
      " 1   TOTAL_ORDERS               5000 non-null   int64         \n",
      " 2   REVENUE                    5000 non-null   float64       \n",
      " 3   AVERAGE_ORDER_VALUE        5000 non-null   float64       \n",
      " 4   CARRIAGE_REVENUE           5000 non-null   float64       \n",
      " 5   AVERAGESHIPPING            5000 non-null   float64       \n",
      " 6   FIRST_ORDER_DATE           5000 non-null   datetime64[ns]\n",
      " 7   LATEST_ORDER_DATE          5000 non-null   datetime64[ns]\n",
      " 8   AVGDAYSBETWEENORDERS       5000 non-null   float64       \n",
      " 9   DAYSSINCELASTORDER         5000 non-null   int64         \n",
      " 10  MONDAY_ORDERS              5000 non-null   int64         \n",
      " 11  TUESDAY_ORDERS             5000 non-null   int64         \n",
      " 12  WEDNESDAY_ORDERS           5000 non-null   int64         \n",
      " 13  THURSDAY_ORDERS            5000 non-null   int64         \n",
      " 14  FRIDAY_ORDERS              5000 non-null   int64         \n",
      " 15  SATURDAY_ORDERS            5000 non-null   int64         \n",
      " 16  SUNDAY_ORDERS              5000 non-null   int64         \n",
      " 17  MONDAY_REVENUE             5000 non-null   float64       \n",
      " 18  TUESDAY_REVENUE            5000 non-null   float64       \n",
      " 19  WEDNESDAY_REVENUE          5000 non-null   float64       \n",
      " 20  THURSDAY_REVENUE           5000 non-null   float64       \n",
      " 21  FRIDAY_REVENUE             5000 non-null   float64       \n",
      " 22  SATURDAY_REVENUE           5000 non-null   float64       \n",
      " 23  SUNDAY_REVENUE             5000 non-null   float64       \n",
      " 24  WEEK1_DAY01_DAY07_ORDERS   5000 non-null   int64         \n",
      " 25  WEEK2_DAY08_DAY15_ORDERS   5000 non-null   int64         \n",
      " 26  WEEK3_DAY16_DAY23_ORDERS   5000 non-null   int64         \n",
      " 27  WEEK4_DAY24_DAY31_ORDERS   5000 non-null   int64         \n",
      " 28  WEEK1_DAY01_DAY07_REVENUE  5000 non-null   float64       \n",
      " 29  WEEK2_DAY08_DAY15_REVENUE  5000 non-null   float64       \n",
      " 30  WEEK3_DAY16_DAY23_REVENUE  5000 non-null   float64       \n",
      " 31  WEEK4_DAY24_DAY31_REVENUE  5000 non-null   float64       \n",
      " 32  TIME_0000_0600_ORDERS      5000 non-null   int64         \n",
      " 33  TIME_0601_1200_ORDERS      5000 non-null   int64         \n",
      " 34  TIME_1200_1800_ORDERS      5000 non-null   int64         \n",
      " 35  TIME_1801_2359_ORDERS      5000 non-null   int64         \n",
      " 36  TIME_0000_0600_REVENUE     5000 non-null   float64       \n",
      " 37  TIME_0601_1200_REVENUE     5000 non-null   float64       \n",
      " 38  TIME_1200_1800_REVENUE     5000 non-null   float64       \n",
      " 39  TIME_1801_2359_REVENUE     5000 non-null   float64       \n",
      "dtypes: datetime64[ns](2), float64(20), int64(18)\n",
      "memory usage: 1.5 MB\n"
     ]
    }
   ],
   "source": [
    "df.info()"
   ]
  },
  {
   "cell_type": "code",
   "execution_count": 5,
   "id": "f0b1ab11-01ef-4026-9c00-ad1ff7f8ffac",
   "metadata": {},
   "outputs": [
    {
     "data": {
      "text/plain": [
       "CustomerID                   0\n",
       "TOTAL_ORDERS                 0\n",
       "REVENUE                      0\n",
       "AVERAGE_ORDER_VALUE          0\n",
       "CARRIAGE_REVENUE             0\n",
       "AVERAGESHIPPING              0\n",
       "FIRST_ORDER_DATE             0\n",
       "LATEST_ORDER_DATE            0\n",
       "AVGDAYSBETWEENORDERS         0\n",
       "DAYSSINCELASTORDER           0\n",
       "MONDAY_ORDERS                0\n",
       "TUESDAY_ORDERS               0\n",
       "WEDNESDAY_ORDERS             0\n",
       "THURSDAY_ORDERS              0\n",
       "FRIDAY_ORDERS                0\n",
       "SATURDAY_ORDERS              0\n",
       "SUNDAY_ORDERS                0\n",
       "MONDAY_REVENUE               0\n",
       "TUESDAY_REVENUE              0\n",
       "WEDNESDAY_REVENUE            0\n",
       "THURSDAY_REVENUE             0\n",
       "FRIDAY_REVENUE               0\n",
       "SATURDAY_REVENUE             0\n",
       "SUNDAY_REVENUE               0\n",
       "WEEK1_DAY01_DAY07_ORDERS     0\n",
       "WEEK2_DAY08_DAY15_ORDERS     0\n",
       "WEEK3_DAY16_DAY23_ORDERS     0\n",
       "WEEK4_DAY24_DAY31_ORDERS     0\n",
       "WEEK1_DAY01_DAY07_REVENUE    0\n",
       "WEEK2_DAY08_DAY15_REVENUE    0\n",
       "WEEK3_DAY16_DAY23_REVENUE    0\n",
       "WEEK4_DAY24_DAY31_REVENUE    0\n",
       "TIME_0000_0600_ORDERS        0\n",
       "TIME_0601_1200_ORDERS        0\n",
       "TIME_1200_1800_ORDERS        0\n",
       "TIME_1801_2359_ORDERS        0\n",
       "TIME_0000_0600_REVENUE       0\n",
       "TIME_0601_1200_REVENUE       0\n",
       "TIME_1200_1800_REVENUE       0\n",
       "TIME_1801_2359_REVENUE       0\n",
       "dtype: int64"
      ]
     },
     "execution_count": 5,
     "metadata": {},
     "output_type": "execute_result"
    }
   ],
   "source": [
    "df.isna().sum()"
   ]
  },
  {
   "cell_type": "code",
   "execution_count": null,
   "id": "64298b2d-010c-4e0e-996d-a8dbf1ffc52a",
   "metadata": {},
   "outputs": [],
   "source": []
  },
  {
   "cell_type": "markdown",
   "id": "9ca321ef-c745-435c-8bc1-b35ed9f7aa1b",
   "metadata": {},
   "source": [
    "## Recency"
   ]
  },
  {
   "cell_type": "code",
   "execution_count": 6,
   "id": "7b6e92e6-fefe-49fa-b163-6381d409065d",
   "metadata": {},
   "outputs": [],
   "source": [
    "lastpurchase_day = df[['CustomerID','DAYSSINCELASTORDER']].groupby('CustomerID').min().reset_index()\n",
    "lastpurchase_day.rename(columns={'DAYSSINCELASTORDER':'Recency'}, inplace=True)"
   ]
  },
  {
   "cell_type": "code",
   "execution_count": 7,
   "id": "72a69be7-8afb-4ac7-a549-d394a0afc552",
   "metadata": {},
   "outputs": [
    {
     "data": {
      "text/html": [
       "<div>\n",
       "<style scoped>\n",
       "    .dataframe tbody tr th:only-of-type {\n",
       "        vertical-align: middle;\n",
       "    }\n",
       "\n",
       "    .dataframe tbody tr th {\n",
       "        vertical-align: top;\n",
       "    }\n",
       "\n",
       "    .dataframe thead th {\n",
       "        text-align: right;\n",
       "    }\n",
       "</style>\n",
       "<table border=\"1\" class=\"dataframe\">\n",
       "  <thead>\n",
       "    <tr style=\"text-align: right;\">\n",
       "      <th></th>\n",
       "      <th>CustomerID</th>\n",
       "      <th>Recency</th>\n",
       "    </tr>\n",
       "  </thead>\n",
       "  <tbody>\n",
       "    <tr>\n",
       "      <th>0</th>\n",
       "      <td>1</td>\n",
       "      <td>53</td>\n",
       "    </tr>\n",
       "    <tr>\n",
       "      <th>1</th>\n",
       "      <td>2</td>\n",
       "      <td>94</td>\n",
       "    </tr>\n",
       "    <tr>\n",
       "      <th>2</th>\n",
       "      <td>3</td>\n",
       "      <td>53</td>\n",
       "    </tr>\n",
       "    <tr>\n",
       "      <th>3</th>\n",
       "      <td>4</td>\n",
       "      <td>5</td>\n",
       "    </tr>\n",
       "    <tr>\n",
       "      <th>4</th>\n",
       "      <td>5</td>\n",
       "      <td>130</td>\n",
       "    </tr>\n",
       "  </tbody>\n",
       "</table>\n",
       "</div>"
      ],
      "text/plain": [
       "   CustomerID  Recency\n",
       "0           1       53\n",
       "1           2       94\n",
       "2           3       53\n",
       "3           4        5\n",
       "4           5      130"
      ]
     },
     "execution_count": 7,
     "metadata": {},
     "output_type": "execute_result"
    }
   ],
   "source": [
    "lastpurchase_day.head()"
   ]
  },
  {
   "cell_type": "markdown",
   "id": "8e870191-047b-4eeb-b0ad-2ce3a9c35394",
   "metadata": {},
   "source": [
    "## Frequency"
   ]
  },
  {
   "cell_type": "code",
   "execution_count": 8,
   "id": "b4453a1a-0e8f-4048-b9a2-15200cbb263c",
   "metadata": {},
   "outputs": [],
   "source": [
    "orders = df[['CustomerID', 'TOTAL_ORDERS']].groupby('CustomerID').min().reset_index()\n",
    "orders.rename(columns = {'TOTAL_ORDERS': 'Frequency'}, inplace=True)"
   ]
  },
  {
   "cell_type": "code",
   "execution_count": 9,
   "id": "7fbc4a25-474b-4b53-8f57-529c10603772",
   "metadata": {},
   "outputs": [
    {
     "data": {
      "text/html": [
       "<div>\n",
       "<style scoped>\n",
       "    .dataframe tbody tr th:only-of-type {\n",
       "        vertical-align: middle;\n",
       "    }\n",
       "\n",
       "    .dataframe tbody tr th {\n",
       "        vertical-align: top;\n",
       "    }\n",
       "\n",
       "    .dataframe thead th {\n",
       "        text-align: right;\n",
       "    }\n",
       "</style>\n",
       "<table border=\"1\" class=\"dataframe\">\n",
       "  <thead>\n",
       "    <tr style=\"text-align: right;\">\n",
       "      <th></th>\n",
       "      <th>CustomerID</th>\n",
       "      <th>Frequency</th>\n",
       "    </tr>\n",
       "  </thead>\n",
       "  <tbody>\n",
       "    <tr>\n",
       "      <th>0</th>\n",
       "      <td>1</td>\n",
       "      <td>61</td>\n",
       "    </tr>\n",
       "    <tr>\n",
       "      <th>1</th>\n",
       "      <td>2</td>\n",
       "      <td>59</td>\n",
       "    </tr>\n",
       "    <tr>\n",
       "      <th>2</th>\n",
       "      <td>3</td>\n",
       "      <td>53</td>\n",
       "    </tr>\n",
       "    <tr>\n",
       "      <th>3</th>\n",
       "      <td>4</td>\n",
       "      <td>84</td>\n",
       "    </tr>\n",
       "    <tr>\n",
       "      <th>4</th>\n",
       "      <td>5</td>\n",
       "      <td>26</td>\n",
       "    </tr>\n",
       "  </tbody>\n",
       "</table>\n",
       "</div>"
      ],
      "text/plain": [
       "   CustomerID  Frequency\n",
       "0           1         61\n",
       "1           2         59\n",
       "2           3         53\n",
       "3           4         84\n",
       "4           5         26"
      ]
     },
     "execution_count": 9,
     "metadata": {},
     "output_type": "execute_result"
    }
   ],
   "source": [
    "orders.head()"
   ]
  },
  {
   "cell_type": "markdown",
   "id": "3aaada2f-83a6-44b8-b554-a7d2cb90b6f4",
   "metadata": {},
   "source": [
    "## Monetary"
   ]
  },
  {
   "cell_type": "code",
   "execution_count": 10,
   "id": "42862ce3-4a4e-47d2-a317-f4cc16ed4b30",
   "metadata": {},
   "outputs": [],
   "source": [
    "revenue = df[['CustomerID', 'REVENUE']].groupby('CustomerID').min().reset_index()\n",
    "revenue.rename(columns = {'REVENUE': 'Monetary'}, inplace = True)"
   ]
  },
  {
   "cell_type": "code",
   "execution_count": 11,
   "id": "14ed2bd1-d7f4-41b0-8bf6-7a8b5130b308",
   "metadata": {},
   "outputs": [
    {
     "data": {
      "text/html": [
       "<div>\n",
       "<style scoped>\n",
       "    .dataframe tbody tr th:only-of-type {\n",
       "        vertical-align: middle;\n",
       "    }\n",
       "\n",
       "    .dataframe tbody tr th {\n",
       "        vertical-align: top;\n",
       "    }\n",
       "\n",
       "    .dataframe thead th {\n",
       "        text-align: right;\n",
       "    }\n",
       "</style>\n",
       "<table border=\"1\" class=\"dataframe\">\n",
       "  <thead>\n",
       "    <tr style=\"text-align: right;\">\n",
       "      <th></th>\n",
       "      <th>CustomerID</th>\n",
       "      <th>Monetary</th>\n",
       "    </tr>\n",
       "  </thead>\n",
       "  <tbody>\n",
       "    <tr>\n",
       "      <th>0</th>\n",
       "      <td>1</td>\n",
       "      <td>34847.40</td>\n",
       "    </tr>\n",
       "    <tr>\n",
       "      <th>1</th>\n",
       "      <td>2</td>\n",
       "      <td>32486.98</td>\n",
       "    </tr>\n",
       "    <tr>\n",
       "      <th>2</th>\n",
       "      <td>3</td>\n",
       "      <td>24178.97</td>\n",
       "    </tr>\n",
       "    <tr>\n",
       "      <th>3</th>\n",
       "      <td>4</td>\n",
       "      <td>18554.49</td>\n",
       "    </tr>\n",
       "    <tr>\n",
       "      <th>4</th>\n",
       "      <td>5</td>\n",
       "      <td>16884.99</td>\n",
       "    </tr>\n",
       "  </tbody>\n",
       "</table>\n",
       "</div>"
      ],
      "text/plain": [
       "   CustomerID  Monetary\n",
       "0           1  34847.40\n",
       "1           2  32486.98\n",
       "2           3  24178.97\n",
       "3           4  18554.49\n",
       "4           5  16884.99"
      ]
     },
     "execution_count": 11,
     "metadata": {},
     "output_type": "execute_result"
    }
   ],
   "source": [
    "revenue.head()"
   ]
  },
  {
   "cell_type": "code",
   "execution_count": 12,
   "id": "28945883-db03-461e-bde4-401aee19f3c6",
   "metadata": {},
   "outputs": [
    {
     "data": {
      "text/html": [
       "<div>\n",
       "<style scoped>\n",
       "    .dataframe tbody tr th:only-of-type {\n",
       "        vertical-align: middle;\n",
       "    }\n",
       "\n",
       "    .dataframe tbody tr th {\n",
       "        vertical-align: top;\n",
       "    }\n",
       "\n",
       "    .dataframe thead th {\n",
       "        text-align: right;\n",
       "    }\n",
       "</style>\n",
       "<table border=\"1\" class=\"dataframe\">\n",
       "  <thead>\n",
       "    <tr style=\"text-align: right;\">\n",
       "      <th></th>\n",
       "      <th>CustomerID</th>\n",
       "      <th>Recency</th>\n",
       "      <th>Frequency</th>\n",
       "    </tr>\n",
       "  </thead>\n",
       "  <tbody>\n",
       "    <tr>\n",
       "      <th>0</th>\n",
       "      <td>1</td>\n",
       "      <td>53</td>\n",
       "      <td>61</td>\n",
       "    </tr>\n",
       "    <tr>\n",
       "      <th>1</th>\n",
       "      <td>2</td>\n",
       "      <td>94</td>\n",
       "      <td>59</td>\n",
       "    </tr>\n",
       "    <tr>\n",
       "      <th>2</th>\n",
       "      <td>3</td>\n",
       "      <td>53</td>\n",
       "      <td>53</td>\n",
       "    </tr>\n",
       "    <tr>\n",
       "      <th>3</th>\n",
       "      <td>4</td>\n",
       "      <td>5</td>\n",
       "      <td>84</td>\n",
       "    </tr>\n",
       "    <tr>\n",
       "      <th>4</th>\n",
       "      <td>5</td>\n",
       "      <td>130</td>\n",
       "      <td>26</td>\n",
       "    </tr>\n",
       "  </tbody>\n",
       "</table>\n",
       "</div>"
      ],
      "text/plain": [
       "   CustomerID  Recency  Frequency\n",
       "0           1       53         61\n",
       "1           2       94         59\n",
       "2           3       53         53\n",
       "3           4        5         84\n",
       "4           5      130         26"
      ]
     },
     "execution_count": 12,
     "metadata": {},
     "output_type": "execute_result"
    }
   ],
   "source": [
    "m1 = pd.merge(lastpurchase_day,orders, on='CustomerID')\n",
    "m1.head()"
   ]
  },
  {
   "cell_type": "code",
   "execution_count": 13,
   "id": "d185942b-5c3c-45ff-8d09-22b503636154",
   "metadata": {},
   "outputs": [
    {
     "data": {
      "text/html": [
       "<div>\n",
       "<style scoped>\n",
       "    .dataframe tbody tr th:only-of-type {\n",
       "        vertical-align: middle;\n",
       "    }\n",
       "\n",
       "    .dataframe tbody tr th {\n",
       "        vertical-align: top;\n",
       "    }\n",
       "\n",
       "    .dataframe thead th {\n",
       "        text-align: right;\n",
       "    }\n",
       "</style>\n",
       "<table border=\"1\" class=\"dataframe\">\n",
       "  <thead>\n",
       "    <tr style=\"text-align: right;\">\n",
       "      <th></th>\n",
       "      <th>CustomerID</th>\n",
       "      <th>Recency</th>\n",
       "      <th>Frequency</th>\n",
       "      <th>Monetary</th>\n",
       "    </tr>\n",
       "  </thead>\n",
       "  <tbody>\n",
       "    <tr>\n",
       "      <th>0</th>\n",
       "      <td>1</td>\n",
       "      <td>53</td>\n",
       "      <td>61</td>\n",
       "      <td>34847.40</td>\n",
       "    </tr>\n",
       "    <tr>\n",
       "      <th>1</th>\n",
       "      <td>2</td>\n",
       "      <td>94</td>\n",
       "      <td>59</td>\n",
       "      <td>32486.98</td>\n",
       "    </tr>\n",
       "    <tr>\n",
       "      <th>2</th>\n",
       "      <td>3</td>\n",
       "      <td>53</td>\n",
       "      <td>53</td>\n",
       "      <td>24178.97</td>\n",
       "    </tr>\n",
       "    <tr>\n",
       "      <th>3</th>\n",
       "      <td>4</td>\n",
       "      <td>5</td>\n",
       "      <td>84</td>\n",
       "      <td>18554.49</td>\n",
       "    </tr>\n",
       "    <tr>\n",
       "      <th>4</th>\n",
       "      <td>5</td>\n",
       "      <td>130</td>\n",
       "      <td>26</td>\n",
       "      <td>16884.99</td>\n",
       "    </tr>\n",
       "  </tbody>\n",
       "</table>\n",
       "</div>"
      ],
      "text/plain": [
       "   CustomerID  Recency  Frequency  Monetary\n",
       "0           1       53         61  34847.40\n",
       "1           2       94         59  32486.98\n",
       "2           3       53         53  24178.97\n",
       "3           4        5         84  18554.49\n",
       "4           5      130         26  16884.99"
      ]
     },
     "execution_count": 13,
     "metadata": {},
     "output_type": "execute_result"
    }
   ],
   "source": [
    "rfm = pd.merge(m1,revenue, on='CustomerID')\n",
    "rfm.head()"
   ]
  },
  {
   "cell_type": "markdown",
   "id": "af5cdaca-53cd-4c91-a223-2483345dad61",
   "metadata": {},
   "source": [
    "# RFM Score"
   ]
  },
  {
   "cell_type": "code",
   "execution_count": 14,
   "id": "aa304fe9-427b-4401-9a01-015afb3d8cf2",
   "metadata": {},
   "outputs": [],
   "source": [
    "###Calculating quantile values\n",
    "quintiles = rfm[['Recency', 'Frequency', 'Monetary']].quantile([.2, .25, .3, .35, .4, .5, .6, .7, .8, .9]).to_dict()\n",
    "###Benchmark to give score for recency indicator\n",
    "def r_score(r):\n",
    "    if r < quintiles['Recency'][.2]:\n",
    "        return 3 \n",
    "    elif r < quintiles['Recency'][.8]:\n",
    "        return 2\n",
    "    else: \n",
    "        return 1\n",
    "###Benchmark to give score for frequency & monetary indicator.   \n",
    "def fm_score(f): \n",
    "    if f > quintiles['Frequency'][.8]:\n",
    "        return 3\n",
    "    elif f > quintiles['Frequency'][.2]: \n",
    "        return 2\n",
    "    else: \n",
    "        return 1"
   ]
  },
  {
   "cell_type": "code",
   "execution_count": 15,
   "id": "94bd9a68-45fd-49d8-9eef-3661c3244de5",
   "metadata": {},
   "outputs": [],
   "source": [
    "# applying the above rule to data frame"
   ]
  },
  {
   "cell_type": "code",
   "execution_count": 16,
   "id": "4e86b567-383f-46de-ab0d-fc1da0417baf",
   "metadata": {},
   "outputs": [],
   "source": [
    "rfm2 = rfm.copy()\n",
    "rfm2['r_score'] = rfm2.Recency.apply(lambda x: r_score(x))\n",
    "rfm2['f_score'] = rfm2.Frequency.apply(lambda x: fm_score(x))\n",
    "rfm2['m_score'] = rfm2.Monetary.apply(lambda x: fm_score(x))\n",
    "rfm2['rfm'] = rfm2['r_score'].map(str)+rfm2['f_score'].map(str) + rfm2['m_score'].map(str)"
   ]
  },
  {
   "cell_type": "code",
   "execution_count": 17,
   "id": "593ea073-37c2-42ed-8523-fd2734a607ba",
   "metadata": {},
   "outputs": [
    {
     "data": {
      "text/html": [
       "<div>\n",
       "<style scoped>\n",
       "    .dataframe tbody tr th:only-of-type {\n",
       "        vertical-align: middle;\n",
       "    }\n",
       "\n",
       "    .dataframe tbody tr th {\n",
       "        vertical-align: top;\n",
       "    }\n",
       "\n",
       "    .dataframe thead th {\n",
       "        text-align: right;\n",
       "    }\n",
       "</style>\n",
       "<table border=\"1\" class=\"dataframe\">\n",
       "  <thead>\n",
       "    <tr style=\"text-align: right;\">\n",
       "      <th></th>\n",
       "      <th>CustomerID</th>\n",
       "      <th>Recency</th>\n",
       "      <th>Frequency</th>\n",
       "      <th>Monetary</th>\n",
       "      <th>r_score</th>\n",
       "      <th>f_score</th>\n",
       "      <th>m_score</th>\n",
       "      <th>rfm</th>\n",
       "    </tr>\n",
       "  </thead>\n",
       "  <tbody>\n",
       "    <tr>\n",
       "      <th>0</th>\n",
       "      <td>1</td>\n",
       "      <td>53</td>\n",
       "      <td>61</td>\n",
       "      <td>34847.40</td>\n",
       "      <td>2</td>\n",
       "      <td>3</td>\n",
       "      <td>3</td>\n",
       "      <td>233</td>\n",
       "    </tr>\n",
       "    <tr>\n",
       "      <th>1</th>\n",
       "      <td>2</td>\n",
       "      <td>94</td>\n",
       "      <td>59</td>\n",
       "      <td>32486.98</td>\n",
       "      <td>2</td>\n",
       "      <td>3</td>\n",
       "      <td>3</td>\n",
       "      <td>233</td>\n",
       "    </tr>\n",
       "    <tr>\n",
       "      <th>2</th>\n",
       "      <td>3</td>\n",
       "      <td>53</td>\n",
       "      <td>53</td>\n",
       "      <td>24178.97</td>\n",
       "      <td>2</td>\n",
       "      <td>3</td>\n",
       "      <td>3</td>\n",
       "      <td>233</td>\n",
       "    </tr>\n",
       "    <tr>\n",
       "      <th>3</th>\n",
       "      <td>4</td>\n",
       "      <td>5</td>\n",
       "      <td>84</td>\n",
       "      <td>18554.49</td>\n",
       "      <td>2</td>\n",
       "      <td>3</td>\n",
       "      <td>3</td>\n",
       "      <td>233</td>\n",
       "    </tr>\n",
       "    <tr>\n",
       "      <th>4</th>\n",
       "      <td>5</td>\n",
       "      <td>130</td>\n",
       "      <td>26</td>\n",
       "      <td>16884.99</td>\n",
       "      <td>2</td>\n",
       "      <td>3</td>\n",
       "      <td>3</td>\n",
       "      <td>233</td>\n",
       "    </tr>\n",
       "  </tbody>\n",
       "</table>\n",
       "</div>"
      ],
      "text/plain": [
       "   CustomerID  Recency  Frequency  Monetary  r_score  f_score  m_score  rfm\n",
       "0           1       53         61  34847.40        2        3        3  233\n",
       "1           2       94         59  32486.98        2        3        3  233\n",
       "2           3       53         53  24178.97        2        3        3  233\n",
       "3           4        5         84  18554.49        2        3        3  233\n",
       "4           5      130         26  16884.99        2        3        3  233"
      ]
     },
     "execution_count": 17,
     "metadata": {},
     "output_type": "execute_result"
    }
   ],
   "source": [
    "rfm2.head()"
   ]
  },
  {
   "cell_type": "code",
   "execution_count": 18,
   "id": "9903e095-b413-481b-94ae-be34859b49f8",
   "metadata": {},
   "outputs": [],
   "source": [
    "rfm2.to_csv(\"RFM_Score.csv\")"
   ]
  },
  {
   "cell_type": "markdown",
   "id": "dd8e5a61-081d-4560-8eaf-71cfba447cab",
   "metadata": {},
   "source": [
    "# RFM Clustering"
   ]
  },
  {
   "cell_type": "code",
   "execution_count": 19,
   "id": "de905724-bd95-4a9e-ac40-8f91e828101f",
   "metadata": {},
   "outputs": [
    {
     "data": {
      "text/plain": [
       "233     901\n",
       "223    2349\n",
       "213     749\n",
       "133       3\n",
       "123     312\n",
       "113     686\n",
       "Name: rfm, dtype: int64"
      ]
     },
     "execution_count": 19,
     "metadata": {},
     "output_type": "execute_result"
    }
   ],
   "source": [
    "rfm2['rfm'].value_counts().sort_index(ascending=False)"
   ]
  },
  {
   "cell_type": "code",
   "execution_count": 20,
   "id": "69d06592-9c79-47e0-a8d4-bc267b1f51cb",
   "metadata": {},
   "outputs": [
    {
     "data": {
      "text/plain": [
       "'233'"
      ]
     },
     "execution_count": 20,
     "metadata": {},
     "output_type": "execute_result"
    }
   ],
   "source": [
    "rfm2['rfm'].max()"
   ]
  },
  {
   "cell_type": "code",
   "execution_count": 21,
   "id": "569c66c8-a1c6-4c6b-a232-f017917dd2a0",
   "metadata": {},
   "outputs": [],
   "source": [
    "###Loyal Customers, who are the champions of all the customers with highest score of RFM. \n",
    "rfm2_group1 = rfm2[rfm2['rfm']=='233']\n",
    "rfm2_group1['label'] = 'champion'\n"
   ]
  },
  {
   "cell_type": "code",
   "execution_count": 22,
   "id": "4febf24c-331b-420e-bb03-01d2d6616d36",
   "metadata": {},
   "outputs": [
    {
     "data": {
      "text/html": [
       "<div>\n",
       "<style scoped>\n",
       "    .dataframe tbody tr th:only-of-type {\n",
       "        vertical-align: middle;\n",
       "    }\n",
       "\n",
       "    .dataframe tbody tr th {\n",
       "        vertical-align: top;\n",
       "    }\n",
       "\n",
       "    .dataframe thead th {\n",
       "        text-align: right;\n",
       "    }\n",
       "</style>\n",
       "<table border=\"1\" class=\"dataframe\">\n",
       "  <thead>\n",
       "    <tr style=\"text-align: right;\">\n",
       "      <th></th>\n",
       "      <th>CustomerID</th>\n",
       "      <th>Recency</th>\n",
       "      <th>Frequency</th>\n",
       "      <th>Monetary</th>\n",
       "      <th>r_score</th>\n",
       "      <th>f_score</th>\n",
       "      <th>m_score</th>\n",
       "      <th>rfm</th>\n",
       "      <th>label</th>\n",
       "    </tr>\n",
       "  </thead>\n",
       "  <tbody>\n",
       "    <tr>\n",
       "      <th>0</th>\n",
       "      <td>1</td>\n",
       "      <td>53</td>\n",
       "      <td>61</td>\n",
       "      <td>34847.40</td>\n",
       "      <td>2</td>\n",
       "      <td>3</td>\n",
       "      <td>3</td>\n",
       "      <td>233</td>\n",
       "      <td>champion</td>\n",
       "    </tr>\n",
       "    <tr>\n",
       "      <th>1</th>\n",
       "      <td>2</td>\n",
       "      <td>94</td>\n",
       "      <td>59</td>\n",
       "      <td>32486.98</td>\n",
       "      <td>2</td>\n",
       "      <td>3</td>\n",
       "      <td>3</td>\n",
       "      <td>233</td>\n",
       "      <td>champion</td>\n",
       "    </tr>\n",
       "    <tr>\n",
       "      <th>2</th>\n",
       "      <td>3</td>\n",
       "      <td>53</td>\n",
       "      <td>53</td>\n",
       "      <td>24178.97</td>\n",
       "      <td>2</td>\n",
       "      <td>3</td>\n",
       "      <td>3</td>\n",
       "      <td>233</td>\n",
       "      <td>champion</td>\n",
       "    </tr>\n",
       "    <tr>\n",
       "      <th>3</th>\n",
       "      <td>4</td>\n",
       "      <td>5</td>\n",
       "      <td>84</td>\n",
       "      <td>18554.49</td>\n",
       "      <td>2</td>\n",
       "      <td>3</td>\n",
       "      <td>3</td>\n",
       "      <td>233</td>\n",
       "      <td>champion</td>\n",
       "    </tr>\n",
       "    <tr>\n",
       "      <th>4</th>\n",
       "      <td>5</td>\n",
       "      <td>130</td>\n",
       "      <td>26</td>\n",
       "      <td>16884.99</td>\n",
       "      <td>2</td>\n",
       "      <td>3</td>\n",
       "      <td>3</td>\n",
       "      <td>233</td>\n",
       "      <td>champion</td>\n",
       "    </tr>\n",
       "  </tbody>\n",
       "</table>\n",
       "</div>"
      ],
      "text/plain": [
       "   CustomerID  Recency  Frequency  Monetary  r_score  f_score  m_score  rfm  \\\n",
       "0           1       53         61  34847.40        2        3        3  233   \n",
       "1           2       94         59  32486.98        2        3        3  233   \n",
       "2           3       53         53  24178.97        2        3        3  233   \n",
       "3           4        5         84  18554.49        2        3        3  233   \n",
       "4           5      130         26  16884.99        2        3        3  233   \n",
       "\n",
       "      label  \n",
       "0  champion  \n",
       "1  champion  \n",
       "2  champion  \n",
       "3  champion  \n",
       "4  champion  "
      ]
     },
     "execution_count": 22,
     "metadata": {},
     "output_type": "execute_result"
    }
   ],
   "source": [
    "rfm2_group1.head()"
   ]
  },
  {
   "cell_type": "code",
   "execution_count": 23,
   "id": "c9861df5-43f1-42de-9772-b333ae645463",
   "metadata": {},
   "outputs": [
    {
     "name": "stdout",
     "output_type": "stream",
     "text": [
      "Total number of champion customers :  901\n"
     ]
    }
   ],
   "source": [
    "print('Total number of champion customers : ', rfm2_group1['label'].count())"
   ]
  },
  {
   "cell_type": "code",
   "execution_count": 24,
   "id": "a709d585-e9dd-4cce-90da-55a05a1b3224",
   "metadata": {},
   "outputs": [],
   "source": [
    "###Customers who have the most potential to become the Champions. They recently buy the products and they make their purchases quite frequently. Moreover, the amount they spent is quite great. \n",
    "rfm2_group2 = rfm2[rfm2['rfm'].str.contains('223|213')] \n",
    "rfm2_group2['label'] = 'potential'"
   ]
  },
  {
   "cell_type": "code",
   "execution_count": 25,
   "id": "cf0ba3e2-252d-4395-be85-f5ed70cb5412",
   "metadata": {},
   "outputs": [
    {
     "data": {
      "text/html": [
       "<div>\n",
       "<style scoped>\n",
       "    .dataframe tbody tr th:only-of-type {\n",
       "        vertical-align: middle;\n",
       "    }\n",
       "\n",
       "    .dataframe tbody tr th {\n",
       "        vertical-align: top;\n",
       "    }\n",
       "\n",
       "    .dataframe thead th {\n",
       "        text-align: right;\n",
       "    }\n",
       "</style>\n",
       "<table border=\"1\" class=\"dataframe\">\n",
       "  <thead>\n",
       "    <tr style=\"text-align: right;\">\n",
       "      <th></th>\n",
       "      <th>CustomerID</th>\n",
       "      <th>Recency</th>\n",
       "      <th>Frequency</th>\n",
       "      <th>Monetary</th>\n",
       "      <th>r_score</th>\n",
       "      <th>f_score</th>\n",
       "      <th>m_score</th>\n",
       "      <th>rfm</th>\n",
       "      <th>label</th>\n",
       "    </tr>\n",
       "  </thead>\n",
       "  <tbody>\n",
       "    <tr>\n",
       "      <th>7</th>\n",
       "      <td>8</td>\n",
       "      <td>62</td>\n",
       "      <td>19</td>\n",
       "      <td>15840.36</td>\n",
       "      <td>2</td>\n",
       "      <td>2</td>\n",
       "      <td>3</td>\n",
       "      <td>223</td>\n",
       "      <td>potential</td>\n",
       "    </tr>\n",
       "    <tr>\n",
       "      <th>17</th>\n",
       "      <td>18</td>\n",
       "      <td>93</td>\n",
       "      <td>10</td>\n",
       "      <td>12940.00</td>\n",
       "      <td>2</td>\n",
       "      <td>2</td>\n",
       "      <td>3</td>\n",
       "      <td>223</td>\n",
       "      <td>potential</td>\n",
       "    </tr>\n",
       "    <tr>\n",
       "      <th>31</th>\n",
       "      <td>32</td>\n",
       "      <td>87</td>\n",
       "      <td>10</td>\n",
       "      <td>10242.00</td>\n",
       "      <td>2</td>\n",
       "      <td>2</td>\n",
       "      <td>3</td>\n",
       "      <td>223</td>\n",
       "      <td>potential</td>\n",
       "    </tr>\n",
       "    <tr>\n",
       "      <th>60</th>\n",
       "      <td>61</td>\n",
       "      <td>87</td>\n",
       "      <td>18</td>\n",
       "      <td>8261.65</td>\n",
       "      <td>2</td>\n",
       "      <td>2</td>\n",
       "      <td>3</td>\n",
       "      <td>223</td>\n",
       "      <td>potential</td>\n",
       "    </tr>\n",
       "    <tr>\n",
       "      <th>62</th>\n",
       "      <td>63</td>\n",
       "      <td>6</td>\n",
       "      <td>18</td>\n",
       "      <td>8163.52</td>\n",
       "      <td>2</td>\n",
       "      <td>2</td>\n",
       "      <td>3</td>\n",
       "      <td>223</td>\n",
       "      <td>potential</td>\n",
       "    </tr>\n",
       "  </tbody>\n",
       "</table>\n",
       "</div>"
      ],
      "text/plain": [
       "    CustomerID  Recency  Frequency  Monetary  r_score  f_score  m_score  rfm  \\\n",
       "7            8       62         19  15840.36        2        2        3  223   \n",
       "17          18       93         10  12940.00        2        2        3  223   \n",
       "31          32       87         10  10242.00        2        2        3  223   \n",
       "60          61       87         18   8261.65        2        2        3  223   \n",
       "62          63        6         18   8163.52        2        2        3  223   \n",
       "\n",
       "        label  \n",
       "7   potential  \n",
       "17  potential  \n",
       "31  potential  \n",
       "60  potential  \n",
       "62  potential  "
      ]
     },
     "execution_count": 25,
     "metadata": {},
     "output_type": "execute_result"
    }
   ],
   "source": [
    "rfm2_group2.head()"
   ]
  },
  {
   "cell_type": "code",
   "execution_count": 26,
   "id": "336421e5-2298-4c86-974b-3974cfab480f",
   "metadata": {},
   "outputs": [
    {
     "name": "stdout",
     "output_type": "stream",
     "text": [
      "Total number of potential customers :  3098\n"
     ]
    }
   ],
   "source": [
    "print('Total number of potential customers : ', rfm2_group2['label'].count())"
   ]
  },
  {
   "cell_type": "code",
   "execution_count": 27,
   "id": "48fe688e-5b54-47ad-9096-2a08333ecab0",
   "metadata": {},
   "outputs": [
    {
     "data": {
      "text/html": [
       "<div>\n",
       "<style scoped>\n",
       "    .dataframe tbody tr th:only-of-type {\n",
       "        vertical-align: middle;\n",
       "    }\n",
       "\n",
       "    .dataframe tbody tr th {\n",
       "        vertical-align: top;\n",
       "    }\n",
       "\n",
       "    .dataframe thead th {\n",
       "        text-align: right;\n",
       "    }\n",
       "</style>\n",
       "<table border=\"1\" class=\"dataframe\">\n",
       "  <thead>\n",
       "    <tr style=\"text-align: right;\">\n",
       "      <th></th>\n",
       "      <th>CustomerID</th>\n",
       "      <th>Recency</th>\n",
       "      <th>Frequency</th>\n",
       "      <th>Monetary</th>\n",
       "      <th>r_score</th>\n",
       "      <th>f_score</th>\n",
       "      <th>m_score</th>\n",
       "      <th>rfm</th>\n",
       "      <th>label</th>\n",
       "    </tr>\n",
       "  </thead>\n",
       "  <tbody>\n",
       "    <tr>\n",
       "      <th>1203</th>\n",
       "      <td>1534</td>\n",
       "      <td>207</td>\n",
       "      <td>16</td>\n",
       "      <td>2576.87</td>\n",
       "      <td>1</td>\n",
       "      <td>2</td>\n",
       "      <td>3</td>\n",
       "      <td>123</td>\n",
       "      <td>need attention</td>\n",
       "    </tr>\n",
       "    <tr>\n",
       "      <th>1247</th>\n",
       "      <td>1681</td>\n",
       "      <td>207</td>\n",
       "      <td>14</td>\n",
       "      <td>2495.51</td>\n",
       "      <td>1</td>\n",
       "      <td>2</td>\n",
       "      <td>3</td>\n",
       "      <td>123</td>\n",
       "      <td>need attention</td>\n",
       "    </tr>\n",
       "    <tr>\n",
       "      <th>1338</th>\n",
       "      <td>1971</td>\n",
       "      <td>207</td>\n",
       "      <td>14</td>\n",
       "      <td>2346.88</td>\n",
       "      <td>1</td>\n",
       "      <td>2</td>\n",
       "      <td>3</td>\n",
       "      <td>123</td>\n",
       "      <td>need attention</td>\n",
       "    </tr>\n",
       "    <tr>\n",
       "      <th>1345</th>\n",
       "      <td>1991</td>\n",
       "      <td>207</td>\n",
       "      <td>25</td>\n",
       "      <td>2335.18</td>\n",
       "      <td>1</td>\n",
       "      <td>3</td>\n",
       "      <td>3</td>\n",
       "      <td>133</td>\n",
       "      <td>need attention</td>\n",
       "    </tr>\n",
       "    <tr>\n",
       "      <th>1594</th>\n",
       "      <td>2928</td>\n",
       "      <td>207</td>\n",
       "      <td>11</td>\n",
       "      <td>1981.59</td>\n",
       "      <td>1</td>\n",
       "      <td>2</td>\n",
       "      <td>3</td>\n",
       "      <td>123</td>\n",
       "      <td>need attention</td>\n",
       "    </tr>\n",
       "  </tbody>\n",
       "</table>\n",
       "</div>"
      ],
      "text/plain": [
       "      CustomerID  Recency  Frequency  Monetary  r_score  f_score  m_score  \\\n",
       "1203        1534      207         16   2576.87        1        2        3   \n",
       "1247        1681      207         14   2495.51        1        2        3   \n",
       "1338        1971      207         14   2346.88        1        2        3   \n",
       "1345        1991      207         25   2335.18        1        3        3   \n",
       "1594        2928      207         11   1981.59        1        2        3   \n",
       "\n",
       "      rfm           label  \n",
       "1203  123  need attention  \n",
       "1247  123  need attention  \n",
       "1338  123  need attention  \n",
       "1345  133  need attention  \n",
       "1594  123  need attention  "
      ]
     },
     "execution_count": 27,
     "metadata": {},
     "output_type": "execute_result"
    }
   ],
   "source": [
    "# Customers who need attention\n",
    "rfm2_group3 = rfm2[rfm2['rfm'].str.contains('133|123|113')] \n",
    "rfm2_group3['label'] = 'need attention'\n",
    "rfm2_group3.head()"
   ]
  },
  {
   "cell_type": "code",
   "execution_count": 28,
   "id": "18dfb330-783f-4dc5-a079-fe5a4debecb8",
   "metadata": {},
   "outputs": [
    {
     "name": "stdout",
     "output_type": "stream",
     "text": [
      "Total number of customers who need attention :  1001\n"
     ]
    }
   ],
   "source": [
    "print('Total number of customers who need attention : ', rfm2_group3['label'].count())"
   ]
  },
  {
   "cell_type": "code",
   "execution_count": null,
   "id": "24f54bd9-7cb6-46dd-a2e1-d7fe0d082663",
   "metadata": {},
   "outputs": [],
   "source": [
    " "
   ]
  },
  {
   "cell_type": "code",
   "execution_count": 29,
   "id": "b502a0b2-594c-4f84-8265-45ee39da69f8",
   "metadata": {},
   "outputs": [
    {
     "data": {
      "text/plain": [
       "[901, 3098, 1001]"
      ]
     },
     "execution_count": 29,
     "metadata": {},
     "output_type": "execute_result"
    }
   ],
   "source": [
    "labels_count = [rfm2_group1['label'].count(),rfm2_group2['label'].count(),rfm2_group3['label'].count() ]\n",
    "labels_count"
   ]
  },
  {
   "cell_type": "code",
   "execution_count": 30,
   "id": "a76f14e6-c567-4231-8954-bec4f6d6e4be",
   "metadata": {},
   "outputs": [
    {
     "data": {
      "text/plain": [
       "['champion', 'potential', 'need attention']"
      ]
     },
     "execution_count": 30,
     "metadata": {},
     "output_type": "execute_result"
    }
   ],
   "source": [
    "labels = ['champion','potential', 'need attention']\n",
    "labels"
   ]
  },
  {
   "cell_type": "code",
   "execution_count": 31,
   "id": "603751c0-e4a3-4c17-b77f-225e64731d70",
   "metadata": {},
   "outputs": [
    {
     "data": {
      "text/plain": [
       "{'Labels': ['champion', 'potential', 'need attention'],\n",
       " 'Count': [901, 3098, 1001]}"
      ]
     },
     "execution_count": 31,
     "metadata": {},
     "output_type": "execute_result"
    }
   ],
   "source": [
    "data={'Labels':labels,'Count':labels_count}\n",
    "data\n"
   ]
  },
  {
   "cell_type": "code",
   "execution_count": 32,
   "id": "660af6f8-6954-4c1c-a6cc-e9d7511ec474",
   "metadata": {},
   "outputs": [
    {
     "data": {
      "text/html": [
       "<div>\n",
       "<style scoped>\n",
       "    .dataframe tbody tr th:only-of-type {\n",
       "        vertical-align: middle;\n",
       "    }\n",
       "\n",
       "    .dataframe tbody tr th {\n",
       "        vertical-align: top;\n",
       "    }\n",
       "\n",
       "    .dataframe thead th {\n",
       "        text-align: right;\n",
       "    }\n",
       "</style>\n",
       "<table border=\"1\" class=\"dataframe\">\n",
       "  <thead>\n",
       "    <tr style=\"text-align: right;\">\n",
       "      <th></th>\n",
       "      <th>Labels</th>\n",
       "      <th>Count</th>\n",
       "    </tr>\n",
       "  </thead>\n",
       "  <tbody>\n",
       "    <tr>\n",
       "      <th>0</th>\n",
       "      <td>champion</td>\n",
       "      <td>901</td>\n",
       "    </tr>\n",
       "    <tr>\n",
       "      <th>1</th>\n",
       "      <td>potential</td>\n",
       "      <td>3098</td>\n",
       "    </tr>\n",
       "    <tr>\n",
       "      <th>2</th>\n",
       "      <td>need attention</td>\n",
       "      <td>1001</td>\n",
       "    </tr>\n",
       "  </tbody>\n",
       "</table>\n",
       "</div>"
      ],
      "text/plain": [
       "           Labels  Count\n",
       "0        champion    901\n",
       "1       potential   3098\n",
       "2  need attention   1001"
      ]
     },
     "execution_count": 32,
     "metadata": {},
     "output_type": "execute_result"
    }
   ],
   "source": [
    "df1 = pd.DataFrame(data)\n",
    "df1"
   ]
  },
  {
   "cell_type": "code",
   "execution_count": 33,
   "id": "69fef6a0-cdad-4f7e-b025-c61bea9d6b48",
   "metadata": {},
   "outputs": [
    {
     "data": {
      "text/plain": [
       "<AxesSubplot:>"
      ]
     },
     "execution_count": 33,
     "metadata": {},
     "output_type": "execute_result"
    },
    {
     "data": {
      "image/png": "[encoded data removed]",
      "text/plain": [
       "<Figure size 432x288 with 1 Axes>"
      ]
     },
     "metadata": {
      "needs_background": "light"
     },
     "output_type": "display_data"
    }
   ],
   "source": [
    "plt.rcParams['figure.figsize'] = (6,4)\n",
    "sns.barplot(x=data['Labels'], y=data['Count'])"
   ]
  },
  {
   "cell_type": "code",
   "execution_count": null,
   "id": "62177052-1c54-4439-99f7-dfb52ae85f8a",
   "metadata": {},
   "outputs": [],
   "source": []
  }
 ],
 "metadata": {
  "kernelspec": {
   "display_name": "Python 3",
   "language": "python",
   "name": "python3"
  },
  "language_info": {
   "codemirror_mode": {
    "name": "ipython",
    "version": 3
   },
   "file_extension": ".py",
   "mimetype": "text/x-python",
   "name": "python",
   "nbconvert_exporter": "python",
   "pygments_lexer": "ipython3",
   "version": "3.8.8"
  }
 },
 "nbformat": 4,
 "nbformat_minor": 5
}
